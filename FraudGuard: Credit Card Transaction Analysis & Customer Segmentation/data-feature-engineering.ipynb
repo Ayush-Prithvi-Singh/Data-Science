{
 "cells": [
  {
   "cell_type": "code",
   "execution_count": 2,
   "id": "020cc606-3ae4-4b1c-8445-f603a4172f02",
   "metadata": {},
   "outputs": [],
   "source": [
    "import pandas as pd\n",
    "import numpy as np\n",
    "from sklearn.model_selection import train_test_split\n",
    "from sklearn.preprocessing import StandardScaler, OneHotEncoder\n",
    "from imblearn.over_sampling import SMOTE\n",
    "from scipy.stats import chi2_contingency"
   ]
  },
  {
   "cell_type": "code",
   "execution_count": 3,
   "id": "277bccd6-e7b0-4362-b176-90890f4d150c",
   "metadata": {},
   "outputs": [],
   "source": [
    "# Load Dataset\n",
    "data = pd.read_csv('transaction_data_updated.csv')"
   ]
  },
  {
   "cell_type": "code",
   "execution_count": 4,
   "id": "e828e846-a923-4eef-ba11-21ee3cc95e9c",
   "metadata": {},
   "outputs": [
    {
     "name": "stdout",
     "output_type": "stream",
     "text": [
      "<class 'pandas.core.frame.DataFrame'>\n",
      "RangeIndex: 781207 entries, 0 to 781206\n",
      "Data columns (total 24 columns):\n",
      " #   Column                    Non-Null Count   Dtype  \n",
      "---  ------                    --------------   -----  \n",
      " 0   Unnamed: 0                781207 non-null  int64  \n",
      " 1   accountNumber             781207 non-null  int64  \n",
      " 2   customerId                781207 non-null  int64  \n",
      " 3   creditLimit               781207 non-null  float64\n",
      " 4   availableMoney            781207 non-null  float64\n",
      " 5   transactionDateTime       781207 non-null  object \n",
      " 6   transactionAmount         781207 non-null  float64\n",
      " 7   merchantName              781207 non-null  object \n",
      " 8   acqCountry                781207 non-null  object \n",
      " 9   merchantCountryCode       781207 non-null  object \n",
      " 10  posEntryMode              781207 non-null  int64  \n",
      " 11  posConditionCode          781207 non-null  int64  \n",
      " 12  merchantCategoryCode      781207 non-null  object \n",
      " 13  currentExpDate            781207 non-null  object \n",
      " 14  accountOpenDate           781207 non-null  object \n",
      " 15  dateOfLastAddressChange   781207 non-null  object \n",
      " 16  cardCVV                   781207 non-null  int64  \n",
      " 17  enteredCVV                781207 non-null  int64  \n",
      " 18  cardLast4Digits           781207 non-null  int64  \n",
      " 19  transactionType           781207 non-null  object \n",
      " 20  currentBalance            781207 non-null  float64\n",
      " 21  cardPresent               781207 non-null  bool   \n",
      " 22  expirationDateKeyInMatch  781207 non-null  bool   \n",
      " 23  isFraud                   781207 non-null  bool   \n",
      "dtypes: bool(3), float64(4), int64(8), object(9)\n",
      "memory usage: 127.4+ MB\n"
     ]
    }
   ],
   "source": [
    "# Display basic info\n",
    "data.info()"
   ]
  },
  {
   "cell_type": "code",
   "execution_count": 5,
   "id": "c5f06713-0c41-4b5f-9ba9-c5ed4b62bd50",
   "metadata": {},
   "outputs": [],
   "source": [
    "# Drop missing values\n",
    "data.dropna(axis=0, inplace=True)"
   ]
  },
  {
   "cell_type": "code",
   "execution_count": 6,
   "id": "661cd19f-2416-409d-bdca-3b991294bcab",
   "metadata": {},
   "outputs": [],
   "source": [
    "# Target column\n",
    "target_column = 'isFraud'"
   ]
  },
  {
   "cell_type": "code",
   "execution_count": 7,
   "id": "70183593-8b29-4ae6-9697-d7cde3f53ad9",
   "metadata": {},
   "outputs": [],
   "source": [
    "### ---- CATEGORICAL FEATURE SELECTION ---- ###\n",
    "# Identify categorical columns\n",
    "categorical_columns = data.select_dtypes(include=['object']).columns"
   ]
  },
  {
   "cell_type": "code",
   "execution_count": 8,
   "id": "d332d997-5e2c-4d30-bfc7-4fc07fb4b5e5",
   "metadata": {},
   "outputs": [],
   "source": [
    "# Calculate Cramér's V for categorical associations\n",
    "associations = {}\n",
    "for column in categorical_columns:\n",
    "    contingency_table = pd.crosstab(data[column], data[target_column])\n",
    "    chi2, _, _, _ = chi2_contingency(contingency_table)\n",
    "    n = contingency_table.sum().sum()\n",
    "    phi2 = chi2 / n\n",
    "    min_dim = min(contingency_table.shape) - 1\n",
    "    associations[column] = np.sqrt(phi2 / min_dim)"
   ]
  },
  {
   "cell_type": "code",
   "execution_count": 9,
   "id": "57b48f63-3168-46f3-846c-4d1be94cb4d1",
   "metadata": {},
   "outputs": [],
   "source": [
    "# Define threshold for useful categorical features\n",
    "association_threshold = 0.1\n",
    "columns_to_drop = [col for col, assoc in associations.items() if assoc < association_threshold]\n",
    "data.drop(columns=columns_to_drop, inplace=True)"
   ]
  },
  {
   "cell_type": "code",
   "execution_count": 10,
   "id": "427f1166-38e8-4c4a-9a58-650a44b368c3",
   "metadata": {},
   "outputs": [],
   "source": [
    "### ---- NUMERIC FEATURE SELECTION ---- ###\n",
    "# Select numeric columns\n",
    "numeric_columns = data.select_dtypes(include=['int64', 'float64']).columns"
   ]
  },
  {
   "cell_type": "code",
   "execution_count": 11,
   "id": "46cd048e-aef3-42d0-9ec6-fa06923a1998",
   "metadata": {},
   "outputs": [],
   "source": [
    "# Compute correlations\n",
    "correlations = data[numeric_columns].corrwith(data[target_column])"
   ]
  },
  {
   "cell_type": "code",
   "execution_count": 12,
   "id": "dca38220-eb88-49fa-ad61-383db811c576",
   "metadata": {},
   "outputs": [],
   "source": [
    "# Drop weakly correlated numeric features\n",
    "correlation_threshold = 0.05  # Increased from 0.005 to keep more relevant features\n",
    "columns_to_drop = [col for col, corr in correlations.items() if abs(corr) < correlation_threshold]\n",
    "data.drop(columns=columns_to_drop, inplace=True)"
   ]
  },
  {
   "cell_type": "code",
   "execution_count": 13,
   "id": "762747bc-ecd3-444f-a21f-876f871b5c09",
   "metadata": {},
   "outputs": [],
   "source": [
    "### ---- BOOLEAN FEATURES ---- ###\n",
    "# Convert boolean columns to integers\n",
    "boolean_columns = data.select_dtypes(include=['bool']).columns\n",
    "data[boolean_columns] = data[boolean_columns].astype(np.int64)"
   ]
  },
  {
   "cell_type": "code",
   "execution_count": 14,
   "id": "64a3999d-b8aa-46bf-9cd6-6aefff3cce23",
   "metadata": {},
   "outputs": [],
   "source": [
    "### ---- DATE & TIME FEATURE ENGINEERING ---- ###\n",
    "# Convert date columns to datetime format\n",
    "date_columns = ['accountOpenDate', 'dateOfLastAddressChange']\n",
    "for col in date_columns:\n",
    "    data[col] = pd.to_datetime(data[col], errors='coerce')\n",
    "\n",
    "# Create time-based features\n",
    "data['account_age_days'] = (pd.Timestamp.now() - data['accountOpenDate']).dt.days\n",
    "data['days_since_address_change'] = (pd.Timestamp.now() - data['dateOfLastAddressChange']).dt.days"
   ]
  },
  {
   "cell_type": "code",
   "execution_count": 15,
   "id": "515bd214-159f-4f99-8619-4aabe5687278",
   "metadata": {},
   "outputs": [],
   "source": [
    "# Drop original date columns\n",
    "data.drop(columns=date_columns, inplace=True)"
   ]
  },
  {
   "cell_type": "code",
   "execution_count": 16,
   "id": "cdb45342-6d93-4595-adf0-70151bce4bb3",
   "metadata": {},
   "outputs": [],
   "source": [
    "### ---- APPLY FREQUENCY ENCODING ---- ###\n",
    "categorical_columns = data.select_dtypes(include=['object']).columns\n",
    "for col in categorical_columns:\n",
    "    freq_map = data[col].value_counts().to_dict()\n",
    "    data[col] = data[col].map(freq_map)"
   ]
  },
  {
   "cell_type": "code",
   "execution_count": 17,
   "id": "c95d4bff-d8d6-4c10-8928-e7cc55df61ce",
   "metadata": {},
   "outputs": [],
   "source": [
    "### ---- CHECK FOR DUPLICATE COLUMNS ---- ###\n",
    "columns = data.columns\n",
    "for i in range(len(columns)):\n",
    "    for j in range(i + 1, len(columns)):\n",
    "        if (data[columns[i]] == data[columns[j]]).all():\n",
    "            data.drop(columns=[columns[j]], inplace=True)"
   ]
  },
  {
   "cell_type": "code",
   "execution_count": 18,
   "id": "dd3d34c6-09f7-4340-b94c-e644896556e9",
   "metadata": {},
   "outputs": [],
   "source": [
    "# Save semi-processed data\n",
    "data.to_csv('semi-treated_data.csv', index=False)"
   ]
  },
  {
   "cell_type": "code",
   "execution_count": 19,
   "id": "75225c3e-1bc7-4cc2-8db5-8c321ce0bd74",
   "metadata": {},
   "outputs": [
    {
     "name": "stdout",
     "output_type": "stream",
     "text": [
      "<class 'pandas.core.frame.DataFrame'>\n",
      "RangeIndex: 781207 entries, 0 to 781206\n",
      "Data columns (total 8 columns):\n",
      " #   Column                     Non-Null Count   Dtype  \n",
      "---  ------                     --------------   -----  \n",
      " 0   transactionDateTime        781207 non-null  int64  \n",
      " 1   transactionAmount          781207 non-null  float64\n",
      " 2   merchantName               781207 non-null  int64  \n",
      " 3   cardPresent                781207 non-null  int64  \n",
      " 4   expirationDateKeyInMatch   781207 non-null  int64  \n",
      " 5   isFraud                    781207 non-null  int64  \n",
      " 6   account_age_days           781207 non-null  int64  \n",
      " 7   days_since_address_change  781207 non-null  int64  \n",
      "dtypes: float64(1), int64(7)\n",
      "memory usage: 47.7 MB\n"
     ]
    }
   ],
   "source": [
    "data.info()"
   ]
  },
  {
   "cell_type": "code",
   "execution_count": 20,
   "id": "2feed730-3f90-4bb1-be73-58a7e670009e",
   "metadata": {},
   "outputs": [
    {
     "name": "stdout",
     "output_type": "stream",
     "text": [
      "[0 1]\n"
     ]
    }
   ],
   "source": [
    "print(data[\"isFraud\"].unique())\n"
   ]
  },
  {
   "cell_type": "code",
   "execution_count": 21,
   "id": "6ce67173-adc4-477a-9e79-18403c7d353b",
   "metadata": {},
   "outputs": [
    {
     "name": "stdout",
     "output_type": "stream",
     "text": [
      "isFraud\n",
      "0    769094\n",
      "1     12113\n",
      "Name: count, dtype: int64\n"
     ]
    }
   ],
   "source": [
    "print(data[\"isFraud\"].value_counts())"
   ]
  },
  {
   "cell_type": "code",
   "execution_count": 22,
   "id": "4941e73f-6a56-4caf-bd65-020c4525cf26",
   "metadata": {},
   "outputs": [],
   "source": [
    "### ---- SPLIT DATA INTO TRAIN & TEST SETS ---- ###\n",
    "X = data.drop(target_column, axis=1)\n",
    "y = data[target_column]\n",
    "\n",
    "X_train, X_test, y_train, y_test = train_test_split(X, y, test_size=0.2, random_state=42)"
   ]
  },
  {
   "cell_type": "code",
   "execution_count": 23,
   "id": "b527765f-39eb-43c3-94c4-8a32f511488b",
   "metadata": {},
   "outputs": [],
   "source": [
    "### ---- HANDLE CLASS IMBALANCE WITH SMOTE ---- ###\n",
    "smote = SMOTE(sampling_strategy=0.2, random_state=42)  # Upsample fraud cases to 20% of the dataset\n",
    "X_train, y_train = smote.fit_resample(X_train, y_train)"
   ]
  },
  {
   "cell_type": "code",
   "execution_count": 24,
   "id": "b13a0531-6605-4c8a-ab9c-0d64cc59630f",
   "metadata": {},
   "outputs": [
    {
     "name": "stdout",
     "output_type": "stream",
     "text": [
      "\n",
      "✅ Test Data NaN values:\n",
      " transactionDateTime          0\n",
      "transactionAmount            0\n",
      "merchantName                 0\n",
      "cardPresent                  0\n",
      "expirationDateKeyInMatch     0\n",
      "account_age_days             0\n",
      "days_since_address_change    0\n",
      "isFraud                      0\n",
      "dtype: int64\n"
     ]
    }
   ],
   "source": [
    "print(\"\\n✅ Test Data NaN values:\\n\", pd.concat([X_test, y_test], axis=1).isnull().sum())"
   ]
  },
  {
   "cell_type": "code",
   "execution_count": 25,
   "id": "ae8679a0-f66a-4718-9f0d-0add8dcced84",
   "metadata": {},
   "outputs": [],
   "source": [
    "### ---- SCALE NUMERIC FEATURES ---- ###\n",
    "scaler = StandardScaler()\n",
    "X_train_scaled = scaler.fit_transform(X_train)\n",
    "X_test_scaled = scaler.transform(X_test)"
   ]
  },
  {
   "cell_type": "code",
   "execution_count": 26,
   "id": "880d646f-1284-4b11-8191-f9bdd8e35ff9",
   "metadata": {},
   "outputs": [
    {
     "data": {
      "text/plain": [
       "229478    0\n",
       "343389    0\n",
       "595173    0\n",
       "457112    0\n",
       "83306     0\n",
       "         ..\n",
       "100524    0\n",
       "668215    0\n",
       "175827    0\n",
       "15420     0\n",
       "249854    0\n",
       "Name: isFraud, Length: 156242, dtype: int64"
      ]
     },
     "execution_count": 26,
     "metadata": {},
     "output_type": "execute_result"
    }
   ],
   "source": [
    "y_test"
   ]
  },
  {
   "cell_type": "code",
   "execution_count": 27,
   "id": "bda23202-077a-42ca-a161-e2901b6b7cca",
   "metadata": {},
   "outputs": [],
   "source": [
    "# Save train and test sets\n",
    "train_data = pd.concat([X_train, y_train], axis=1)\n",
    "test_data = pd.concat([X_test, y_test], axis=1)\n",
    "\n",
    "train_data.to_csv('train_fraud_transactions.csv', index=False)\n",
    "test_data.to_csv('test_fraud_transactions.csv', index=False)\n"
   ]
  },
  {
   "cell_type": "code",
   "execution_count": null,
   "id": "6b331db6-552b-4f5c-8c89-73f0d30c8de8",
   "metadata": {},
   "outputs": [],
   "source": []
  }
 ],
 "metadata": {
  "kernelspec": {
   "display_name": "Python 3 (ipykernel)",
   "language": "python",
   "name": "python3"
  },
  "language_info": {
   "codemirror_mode": {
    "name": "ipython",
    "version": 3
   },
   "file_extension": ".py",
   "mimetype": "text/x-python",
   "name": "python",
   "nbconvert_exporter": "python",
   "pygments_lexer": "ipython3",
   "version": "3.11.7"
  }
 },
 "nbformat": 4,
 "nbformat_minor": 5
}
